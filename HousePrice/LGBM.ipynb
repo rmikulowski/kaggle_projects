{
 "cells": [
  {
   "cell_type": "code",
   "execution_count": 1,
   "metadata": {},
   "outputs": [],
   "source": [
    "import numpy as np\n",
    "import pandas as pd\n",
    "import matplotlib.pyplot as plt"
   ]
  },
  {
   "cell_type": "code",
   "execution_count": 2,
   "metadata": {},
   "outputs": [],
   "source": [
    "SEED_SET = 123\n",
    "np.random.seed(SEED_SET)\n"
   ]
  },
  {
   "cell_type": "code",
   "execution_count": 3,
   "metadata": {},
   "outputs": [],
   "source": [
    "test_data = pd.read_csv('test.csv')\n",
    "train_data = pd.read_csv('train.csv')"
   ]
  },
  {
   "cell_type": "code",
   "execution_count": 4,
   "metadata": {},
   "outputs": [
    {
     "data": {
      "text/plain": [
       "Index(['Id', 'MSSubClass', 'MSZoning', 'LotFrontage', 'LotArea', 'Street',\n",
       "       'Alley', 'LotShape', 'LandContour', 'Utilities', 'LotConfig',\n",
       "       'LandSlope', 'Neighborhood', 'Condition1', 'Condition2', 'BldgType',\n",
       "       'HouseStyle', 'OverallQual', 'OverallCond', 'YearBuilt', 'YearRemodAdd',\n",
       "       'RoofStyle', 'RoofMatl', 'Exterior1st', 'Exterior2nd', 'MasVnrType',\n",
       "       'MasVnrArea', 'ExterQual', 'ExterCond', 'Foundation', 'BsmtQual',\n",
       "       'BsmtCond', 'BsmtExposure', 'BsmtFinType1', 'BsmtFinSF1',\n",
       "       'BsmtFinType2', 'BsmtFinSF2', 'BsmtUnfSF', 'TotalBsmtSF', 'Heating',\n",
       "       'HeatingQC', 'CentralAir', 'Electrical', '1stFlrSF', '2ndFlrSF',\n",
       "       'LowQualFinSF', 'GrLivArea', 'BsmtFullBath', 'BsmtHalfBath', 'FullBath',\n",
       "       'HalfBath', 'BedroomAbvGr', 'KitchenAbvGr', 'KitchenQual',\n",
       "       'TotRmsAbvGrd', 'Functional', 'Fireplaces', 'FireplaceQu', 'GarageType',\n",
       "       'GarageYrBlt', 'GarageFinish', 'GarageCars', 'GarageArea', 'GarageQual',\n",
       "       'GarageCond', 'PavedDrive', 'WoodDeckSF', 'OpenPorchSF',\n",
       "       'EnclosedPorch', '3SsnPorch', 'ScreenPorch', 'PoolArea', 'PoolQC',\n",
       "       'Fence', 'MiscFeature', 'MiscVal', 'MoSold', 'YrSold', 'SaleType',\n",
       "       'SaleCondition', 'SalePrice'],\n",
       "      dtype='object')"
      ]
     },
     "execution_count": 4,
     "metadata": {},
     "output_type": "execute_result"
    }
   ],
   "source": [
    "train_data.columns"
   ]
  },
  {
   "cell_type": "code",
   "execution_count": 5,
   "metadata": {},
   "outputs": [],
   "source": [
    "def change_yearbuilt(data):\n",
    "    return data.apply(lambda x: x//10 - train_data.YearBuilt.min()//10)"
   ]
  },
  {
   "cell_type": "code",
   "execution_count": 6,
   "metadata": {},
   "outputs": [],
   "source": [
    "train_data['YearBuilt_con'] = change_yearbuilt(train_data.YearBuilt)\n",
    "test_data['YearBuilt_con'] = change_yearbuilt(test_data.YearBuilt)"
   ]
  },
  {
   "cell_type": "code",
   "execution_count": 7,
   "metadata": {},
   "outputs": [],
   "source": [
    "con_vars = ['YearBuilt_con', 'FullBath', 'GarageArea', 'LotArea', 'GrLivArea', 'Fireplaces', 'HalfBath', 'MoSold', 'OverallCond', 'OverallQual']\n",
    "\n",
    "cat_vars = ['LotShape', 'BedroomAbvGr', 'FireplaceQu', 'HouseStyle', 'GarageType', 'Foundation', 'HeatingQC', 'KitchenQual', 'Neighborhood', 'SaleCondition']\n",
    "\n",
    "to_remove = ['Id', 'MSSubClass', 'BldgType', 'BsmtCond', 'YearBuilt',\n",
    "             'Alley', 'PoolQC', 'Fence', 'MiscFeature', '1stFlrSF', '2ndFlrSF', '3SsnPorch', \n",
    "             'Street', 'LandContour', 'Utilities', 'LotConfig', 'LandSlope', 'RoofStyle', 'RoofMatl', 'Heating', \n",
    "             'CentralAir', 'BsmtHalfBath', 'KitchenAbvGr', 'Functional', \n",
    "             'GarageQual', 'GarageCond', 'GarageCars', 'GarageFinish', 'GarageYrBlt', \n",
    "             'LotFrontage', 'LowQualFinSF',\n",
    "             'PavedDrive', 'Condition1', 'Condition2', 'OpenPorchSF',\n",
    "            'BsmtExposure','BsmtFinSF1','BsmtFinSF2','BsmtFinType1','BsmtFinType2','BsmtFullBath','BsmtQual','BsmtUnfSF', \n",
    "             'Electrical', 'EnclosedPorch', \n",
    "             'ExterCond','ExterQual','Exterior1st','Exterior2nd', \n",
    "             'MSZoning', 'MasVnrArea','MasVnrType','MiscVal', 'PoolArea', \n",
    "             'SaleType', 'ScreenPorch','TotRmsAbvGrd','TotalBsmtSF','WoodDeckSF','YearRemodAdd','YrSold']\n",
    "\n",
    "target = ['SalePrice']"
   ]
  },
  {
   "cell_type": "code",
   "execution_count": 8,
   "metadata": {},
   "outputs": [
    {
     "data": {
      "text/plain": [
       "set()"
      ]
     },
     "execution_count": 8,
     "metadata": {},
     "output_type": "execute_result"
    }
   ],
   "source": [
    "set(train_data.columns) - set(con_vars) - set(cat_vars) - set(to_remove) - set(target)"
   ]
  },
  {
   "cell_type": "markdown",
   "metadata": {},
   "source": [
    "# Feature Engineering"
   ]
  },
  {
   "cell_type": "code",
   "execution_count": 9,
   "metadata": {},
   "outputs": [],
   "source": [
    "from sklearn.preprocessing import OneHotEncoder, StandardScaler\n",
    "from sklearn.compose import ColumnTransformer\n",
    "from sklearn.pipeline import Pipeline\n",
    "from sklearn.impute import SimpleImputer, KNNImputer, MissingIndicator\n",
    "from sklearn.utils import shuffle\n",
    "from sklearn.model_selection import train_test_split"
   ]
  },
  {
   "cell_type": "code",
   "execution_count": 10,
   "metadata": {},
   "outputs": [],
   "source": [
    "PCA_COMPONENTS = 0.9\n",
    "\n",
    "numeric_transformer = Pipeline(steps=[\n",
    "    ('imputer', SimpleImputer(strategy = 'constant', missing_values = np.nan, fill_value=-1)),\n",
    "    ('scaler', StandardScaler()),\n",
    "    # ('pca', PCA(n_components = PCA_COMPONENTS))\n",
    "])"
   ]
  },
  {
   "cell_type": "code",
   "execution_count": 11,
   "metadata": {},
   "outputs": [],
   "source": [
    "categorical_transformer = Pipeline(steps=[\n",
    "    ('imputer', SimpleImputer(strategy = 'most_frequent', missing_values = np.nan)),\n",
    "    ('onehot', OneHotEncoder(handle_unknown = 'error', drop = 'first'))\n",
    "])"
   ]
  },
  {
   "cell_type": "code",
   "execution_count": 12,
   "metadata": {},
   "outputs": [],
   "source": [
    "# Column transformer\n",
    "preprocessor = ColumnTransformer(\n",
    "    transformers = [\n",
    "        ('num', numeric_transformer, con_vars),\n",
    "        ('cat', categorical_transformer, cat_vars)\n",
    "    ]\n",
    ")"
   ]
  },
  {
   "cell_type": "code",
   "execution_count": 13,
   "metadata": {},
   "outputs": [],
   "source": [
    "train_data = train_data.drop(to_remove, axis = 1)\n",
    "test_data = test_data.drop(to_remove, axis = 1)"
   ]
  },
  {
   "cell_type": "code",
   "execution_count": 14,
   "metadata": {},
   "outputs": [],
   "source": [
    "# Finish FE\n",
    "\n",
    "# Shuffle train_data\n",
    "train_data = shuffle(train_data, random_state=SEED_SET)\n",
    "\n",
    "# Divide train_data into train_data and valid_data\n",
    "X_train, X_valid, y_train, y_valid = train_test_split(train_data[con_vars + cat_vars], train_data[target], \n",
    "                                                      test_size=0.25, random_state=SEED_SET)\n",
    "\n",
    "# Fit preprocessor\n",
    "selector = preprocessor.fit(X_train)\n",
    "\n",
    "# Transforming training and validation datasets\n",
    "X_train = selector.transform(X_train)\n",
    "X_valid = selector.transform(X_valid)\n",
    "\n",
    "# Preprocessing testing datasets\n",
    "X_test = test_data[con_vars + cat_vars]\n",
    "X_test = selector.transform(X_test)\n"
   ]
  },
  {
   "cell_type": "markdown",
   "metadata": {},
   "source": [
    "# Modelling"
   ]
  },
  {
   "cell_type": "code",
   "execution_count": 15,
   "metadata": {},
   "outputs": [],
   "source": [
    "from lightgbm import LGBMRegressor\n",
    "from sklearn.model_selection import RandomizedSearchCV"
   ]
  },
  {
   "cell_type": "code",
   "execution_count": 16,
   "metadata": {},
   "outputs": [],
   "source": [
    "reg_ = Pipeline(steps=[('regressor', LGBMRegressor(boosting_type='gbdt', # Gradient Boosting Decision Tree\n",
    "                                                   random_state = SEED_SET, # seed \n",
    "                                                   silent = False,\n",
    "                                                   objective = 'regression',\n",
    "                                                   n_jobs = -1))])"
   ]
  },
  {
   "cell_type": "code",
   "execution_count": 17,
   "metadata": {},
   "outputs": [
    {
     "data": {
      "text/plain": [
       "dict_keys(['boosting_type', 'class_weight', 'colsample_bytree', 'importance_type', 'learning_rate', 'max_depth', 'min_child_samples', 'min_child_weight', 'min_split_gain', 'n_estimators', 'n_jobs', 'num_leaves', 'objective', 'random_state', 'reg_alpha', 'reg_lambda', 'silent', 'subsample', 'subsample_for_bin', 'subsample_freq'])"
      ]
     },
     "execution_count": 17,
     "metadata": {},
     "output_type": "execute_result"
    }
   ],
   "source": [
    "LGBMRegressor().get_params().keys()"
   ]
  },
  {
   "cell_type": "code",
   "execution_count": 18,
   "metadata": {},
   "outputs": [],
   "source": [
    "# Grid search for analysis of just one parameter \n",
    "\n",
    "# parameter that shrinks the contribution of each tree by its value\n",
    "learning_rate = [0.15]\n",
    "# Maximum tree leaves for base learners\n",
    "num_leaves = [750]\n",
    "# Maximum number of levels in tree\n",
    "max_depth = [3]\n",
    "# Number of trees in random forest\n",
    "n_estimators = [150]\n",
    "# the fraction of samples to be used for fitting the individual base learners\n",
    "subsample = [0.8]\n",
    "# Subsample ratio of columns when constructing each tree\n",
    "colsample_bytree = [0.6]\n",
    "# Regularization parameters\n",
    "reg_lambda = [0.75]\n",
    "reg_alpha = [20]\n",
    "\n",
    "\n",
    "# Defining a grid-search\n",
    "regressor_grid_params = {\n",
    "    'regressor__learning_rate': learning_rate,\n",
    "    'regressor__num_leaves': num_leaves,\n",
    "    'regressor__max_depth': max_depth,\n",
    "    'regressor__n_estimators': n_estimators,\n",
    "    'regressor__subsample': subsample,\n",
    "    'regressor__colsample_bytree': colsample_bytree,\n",
    "    'regressor__reg_lambda' : reg_lambda,\n",
    "    'regressor__reg_alpha' : reg_alpha\n",
    "}"
   ]
  },
  {
   "cell_type": "code",
   "execution_count": 19,
   "metadata": {},
   "outputs": [],
   "source": [
    "grid_params = {\n",
    "    **regressor_grid_params\n",
    "}"
   ]
  },
  {
   "cell_type": "code",
   "execution_count": 20,
   "metadata": {},
   "outputs": [],
   "source": [
    "# Define RandomizedSearch to find the best one\n",
    "# Change n_folds to time-series one (var: row_id)\n",
    "bst_ = RandomizedSearchCV(estimator = reg_, \n",
    "                          param_distributions = grid_params, \n",
    "                          n_jobs= -1, n_iter = 50, \n",
    "                          cv = 5, \n",
    "                          verbose = 1, \n",
    "                          random_state = SEED_SET,\n",
    "                          scoring = 'neg_mean_absolute_error',\n",
    "                          return_train_score = True)"
   ]
  },
  {
   "cell_type": "code",
   "execution_count": 21,
   "metadata": {},
   "outputs": [
    {
     "name": "stderr",
     "output_type": "stream",
     "text": [
      "C:\\ProgramData\\Anaconda3\\lib\\site-packages\\sklearn\\model_selection\\_search.py:281: UserWarning: The total space of parameters 1 is smaller than n_iter=50. Running 1 iterations. For exhaustive searches, use GridSearchCV.\n",
      "  % (grid_size, self.n_iter, grid_size), UserWarning)\n",
      "[Parallel(n_jobs=-1)]: Using backend LokyBackend with 8 concurrent workers.\n"
     ]
    },
    {
     "name": "stdout",
     "output_type": "stream",
     "text": [
      "Fitting 5 folds for each of 1 candidates, totalling 5 fits\n"
     ]
    },
    {
     "name": "stderr",
     "output_type": "stream",
     "text": [
      "[Parallel(n_jobs=-1)]: Done   2 out of   5 | elapsed:   10.6s remaining:   16.0s\n",
      "[Parallel(n_jobs=-1)]: Done   5 out of   5 | elapsed:   10.9s finished\n",
      "C:\\ProgramData\\Anaconda3\\lib\\site-packages\\sklearn\\utils\\validation.py:760: DataConversionWarning: A column-vector y was passed when a 1d array was expected. Please change the shape of y to (n_samples, ), for example using ravel().\n",
      "  y = column_or_1d(y, warn=True)\n"
     ]
    },
    {
     "data": {
      "text/plain": [
       "RandomizedSearchCV(cv=5, error_score=nan,\n",
       "                   estimator=Pipeline(memory=None,\n",
       "                                      steps=[('regressor',\n",
       "                                              LGBMRegressor(boosting_type='gbdt',\n",
       "                                                            class_weight=None,\n",
       "                                                            colsample_bytree=1.0,\n",
       "                                                            importance_type='split',\n",
       "                                                            learning_rate=0.1,\n",
       "                                                            max_depth=-1,\n",
       "                                                            min_child_samples=20,\n",
       "                                                            min_child_weight=0.001,\n",
       "                                                            min_split_gain=0.0,\n",
       "                                                            n_estimators=100,\n",
       "                                                            n_jobs=-1,\n",
       "                                                            num_leaves=31,\n",
       "                                                            objective='regression',\n",
       "                                                            ran...\n",
       "                   param_distributions={'regressor__colsample_bytree': [0.6],\n",
       "                                        'regressor__learning_rate': [0.15],\n",
       "                                        'regressor__max_depth': [3],\n",
       "                                        'regressor__n_estimators': [150],\n",
       "                                        'regressor__num_leaves': [750],\n",
       "                                        'regressor__reg_alpha': [20],\n",
       "                                        'regressor__reg_lambda': [0.75],\n",
       "                                        'regressor__subsample': [0.8]},\n",
       "                   pre_dispatch='2*n_jobs', random_state=123, refit=True,\n",
       "                   return_train_score=True, scoring='neg_mean_absolute_error',\n",
       "                   verbose=1)"
      ]
     },
     "execution_count": 21,
     "metadata": {},
     "output_type": "execute_result"
    }
   ],
   "source": [
    "# Fitting the data, starting the training\n",
    "bst_.fit(X_train, y_train)"
   ]
  },
  {
   "cell_type": "code",
   "execution_count": 22,
   "metadata": {},
   "outputs": [
    {
     "data": {
      "text/plain": [
       "{'regressor__subsample': 0.8,\n",
       " 'regressor__reg_lambda': 0.75,\n",
       " 'regressor__reg_alpha': 20,\n",
       " 'regressor__num_leaves': 750,\n",
       " 'regressor__n_estimators': 150,\n",
       " 'regressor__max_depth': 3,\n",
       " 'regressor__learning_rate': 0.15,\n",
       " 'regressor__colsample_bytree': 0.6}"
      ]
     },
     "execution_count": 22,
     "metadata": {},
     "output_type": "execute_result"
    }
   ],
   "source": [
    "bst_.cv_results_\n",
    "bst_.best_params_"
   ]
  },
  {
   "cell_type": "code",
   "execution_count": 23,
   "metadata": {},
   "outputs": [],
   "source": [
    "y_pred = bst_.best_estimator_.predict(X_valid)"
   ]
  },
  {
   "cell_type": "code",
   "execution_count": 24,
   "metadata": {},
   "outputs": [
    {
     "data": {
      "text/html": [
       "<div>\n",
       "<style scoped>\n",
       "    .dataframe tbody tr th:only-of-type {\n",
       "        vertical-align: middle;\n",
       "    }\n",
       "\n",
       "    .dataframe tbody tr th {\n",
       "        vertical-align: top;\n",
       "    }\n",
       "\n",
       "    .dataframe thead th {\n",
       "        text-align: right;\n",
       "    }\n",
       "</style>\n",
       "<table border=\"1\" class=\"dataframe\">\n",
       "  <thead>\n",
       "    <tr style=\"text-align: right;\">\n",
       "      <th></th>\n",
       "      <th>SalePrice</th>\n",
       "    </tr>\n",
       "  </thead>\n",
       "  <tbody>\n",
       "    <tr>\n",
       "      <th>767</th>\n",
       "      <td>160000</td>\n",
       "    </tr>\n",
       "    <tr>\n",
       "      <th>932</th>\n",
       "      <td>320000</td>\n",
       "    </tr>\n",
       "    <tr>\n",
       "      <th>1239</th>\n",
       "      <td>265900</td>\n",
       "    </tr>\n",
       "    <tr>\n",
       "      <th>262</th>\n",
       "      <td>151000</td>\n",
       "    </tr>\n",
       "    <tr>\n",
       "      <th>1159</th>\n",
       "      <td>185000</td>\n",
       "    </tr>\n",
       "    <tr>\n",
       "      <th>...</th>\n",
       "      <td>...</td>\n",
       "    </tr>\n",
       "    <tr>\n",
       "      <th>590</th>\n",
       "      <td>185900</td>\n",
       "    </tr>\n",
       "    <tr>\n",
       "      <th>255</th>\n",
       "      <td>230000</td>\n",
       "    </tr>\n",
       "    <tr>\n",
       "      <th>627</th>\n",
       "      <td>153000</td>\n",
       "    </tr>\n",
       "    <tr>\n",
       "      <th>781</th>\n",
       "      <td>175900</td>\n",
       "    </tr>\n",
       "    <tr>\n",
       "      <th>121</th>\n",
       "      <td>100000</td>\n",
       "    </tr>\n",
       "  </tbody>\n",
       "</table>\n",
       "<p>365 rows × 1 columns</p>\n",
       "</div>"
      ],
      "text/plain": [
       "      SalePrice\n",
       "767      160000\n",
       "932      320000\n",
       "1239     265900\n",
       "262      151000\n",
       "1159     185000\n",
       "...         ...\n",
       "590      185900\n",
       "255      230000\n",
       "627      153000\n",
       "781      175900\n",
       "121      100000\n",
       "\n",
       "[365 rows x 1 columns]"
      ]
     },
     "execution_count": 24,
     "metadata": {},
     "output_type": "execute_result"
    }
   ],
   "source": [
    "y_valid"
   ]
  },
  {
   "cell_type": "markdown",
   "metadata": {},
   "source": [
    "# Validation of models"
   ]
  },
  {
   "cell_type": "code",
   "execution_count": 25,
   "metadata": {},
   "outputs": [],
   "source": [
    "from sklearn.metrics import mean_absolute_error"
   ]
  },
  {
   "cell_type": "code",
   "execution_count": 26,
   "metadata": {},
   "outputs": [
    {
     "data": {
      "text/plain": [
       "17763.41675942811"
      ]
     },
     "execution_count": 26,
     "metadata": {},
     "output_type": "execute_result"
    }
   ],
   "source": [
    "mean_absolute_error(y_true = y_valid, y_pred = y_pred)"
   ]
  },
  {
   "cell_type": "markdown",
   "metadata": {},
   "source": [
    "# Finished Model"
   ]
  },
  {
   "cell_type": "code",
   "execution_count": 27,
   "metadata": {},
   "outputs": [],
   "source": [
    "test_pred = bst_.best_estimator_.predict(X_test)"
   ]
  },
  {
   "cell_type": "code",
   "execution_count": 28,
   "metadata": {},
   "outputs": [
    {
     "data": {
      "text/plain": [
       "array([138645.83277313, 160953.75606752, 179208.02246013, ...,\n",
       "       166709.62926351, 137398.31685163, 204977.4998172 ])"
      ]
     },
     "execution_count": 28,
     "metadata": {},
     "output_type": "execute_result"
    }
   ],
   "source": [
    "test_pred"
   ]
  },
  {
   "cell_type": "code",
   "execution_count": 30,
   "metadata": {},
   "outputs": [],
   "source": [
    "submission = pd.read_csv('sample_submission.csv')"
   ]
  },
  {
   "cell_type": "code",
   "execution_count": 32,
   "metadata": {},
   "outputs": [],
   "source": [
    "submission.SalePrice = test_pred"
   ]
  },
  {
   "cell_type": "code",
   "execution_count": 7,
   "metadata": {},
   "outputs": [],
   "source": [
    "submission[['Id', 'SalePrice']].to_csv('submission.csv', index = False)"
   ]
  },
  {
   "cell_type": "code",
   "execution_count": null,
   "metadata": {},
   "outputs": [],
   "source": []
  }
 ],
 "metadata": {
  "kernelspec": {
   "display_name": "Python 3",
   "language": "python",
   "name": "python3"
  },
  "language_info": {
   "codemirror_mode": {
    "name": "ipython",
    "version": 3
   },
   "file_extension": ".py",
   "mimetype": "text/x-python",
   "name": "python",
   "nbconvert_exporter": "python",
   "pygments_lexer": "ipython3",
   "version": "3.7.6"
  }
 },
 "nbformat": 4,
 "nbformat_minor": 4
}
