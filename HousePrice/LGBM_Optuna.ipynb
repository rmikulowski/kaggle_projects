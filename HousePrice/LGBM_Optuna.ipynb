{
 "cells": [
  {
   "cell_type": "code",
   "execution_count": 1,
   "metadata": {},
   "outputs": [],
   "source": [
    "import numpy as np\n",
    "import pandas as pd\n",
    "import matplotlib.pyplot as plt"
   ]
  },
  {
   "cell_type": "code",
   "execution_count": 2,
   "metadata": {},
   "outputs": [],
   "source": [
    "SEED_SET = 123\n",
    "np.random.seed(SEED_SET)\n"
   ]
  },
  {
   "cell_type": "code",
   "execution_count": 3,
   "metadata": {},
   "outputs": [],
   "source": [
    "test_data = pd.read_csv('test.csv')\n",
    "train_data = pd.read_csv('train.csv')"
   ]
  },
  {
   "cell_type": "code",
   "execution_count": 4,
   "metadata": {},
   "outputs": [
    {
     "data": {
      "text/plain": [
       "Index(['Id', 'MSSubClass', 'MSZoning', 'LotFrontage', 'LotArea', 'Street',\n",
       "       'Alley', 'LotShape', 'LandContour', 'Utilities', 'LotConfig',\n",
       "       'LandSlope', 'Neighborhood', 'Condition1', 'Condition2', 'BldgType',\n",
       "       'HouseStyle', 'OverallQual', 'OverallCond', 'YearBuilt', 'YearRemodAdd',\n",
       "       'RoofStyle', 'RoofMatl', 'Exterior1st', 'Exterior2nd', 'MasVnrType',\n",
       "       'MasVnrArea', 'ExterQual', 'ExterCond', 'Foundation', 'BsmtQual',\n",
       "       'BsmtCond', 'BsmtExposure', 'BsmtFinType1', 'BsmtFinSF1',\n",
       "       'BsmtFinType2', 'BsmtFinSF2', 'BsmtUnfSF', 'TotalBsmtSF', 'Heating',\n",
       "       'HeatingQC', 'CentralAir', 'Electrical', '1stFlrSF', '2ndFlrSF',\n",
       "       'LowQualFinSF', 'GrLivArea', 'BsmtFullBath', 'BsmtHalfBath', 'FullBath',\n",
       "       'HalfBath', 'BedroomAbvGr', 'KitchenAbvGr', 'KitchenQual',\n",
       "       'TotRmsAbvGrd', 'Functional', 'Fireplaces', 'FireplaceQu', 'GarageType',\n",
       "       'GarageYrBlt', 'GarageFinish', 'GarageCars', 'GarageArea', 'GarageQual',\n",
       "       'GarageCond', 'PavedDrive', 'WoodDeckSF', 'OpenPorchSF',\n",
       "       'EnclosedPorch', '3SsnPorch', 'ScreenPorch', 'PoolArea', 'PoolQC',\n",
       "       'Fence', 'MiscFeature', 'MiscVal', 'MoSold', 'YrSold', 'SaleType',\n",
       "       'SaleCondition', 'SalePrice'],\n",
       "      dtype='object')"
      ]
     },
     "execution_count": 4,
     "metadata": {},
     "output_type": "execute_result"
    }
   ],
   "source": [
    "train_data.columns"
   ]
  },
  {
   "cell_type": "code",
   "execution_count": 5,
   "metadata": {},
   "outputs": [],
   "source": [
    "def change_yearbuilt(data):\n",
    "    return data.apply(lambda x: x//10 - train_data.YearBuilt.min()//10)"
   ]
  },
  {
   "cell_type": "code",
   "execution_count": 6,
   "metadata": {},
   "outputs": [],
   "source": [
    "def change_yearsold(data):\n",
    "    return data.apply(lambda x: x - train_data.YrSold.min())"
   ]
  },
  {
   "cell_type": "code",
   "execution_count": 7,
   "metadata": {},
   "outputs": [],
   "source": [
    "train_data['YearBuilt_con'] = change_yearbuilt(train_data.YearBuilt)\n",
    "test_data['YearBuilt_con'] = change_yearbuilt(test_data.YearBuilt)"
   ]
  },
  {
   "cell_type": "code",
   "execution_count": 8,
   "metadata": {},
   "outputs": [],
   "source": [
    "train_data['YearSold_con'] = change_yearbuilt(train_data.YrSold)\n",
    "test_data['YearSold_con'] = change_yearbuilt(test_data.YrSold)"
   ]
  },
  {
   "cell_type": "code",
   "execution_count": 9,
   "metadata": {},
   "outputs": [],
   "source": [
    "con_vars = ['YearBuilt_con', 'YearSold_con',\n",
    "            'FullBath', 'GarageArea', 'LotArea', 'GrLivArea', 'Fireplaces', \n",
    "            'HalfBath', 'MoSold', 'OverallCond', 'OverallQual', 'KitchenAbvGr', 'TotRmsAbvGrd']\n",
    "\n",
    "cat_vars = ['LotShape', 'BedroomAbvGr', 'FireplaceQu', 'HouseStyle', \n",
    "            'GarageType', 'Foundation', 'HeatingQC', 'KitchenQual', \n",
    "            'Neighborhood', 'SaleCondition', 'BldgType', 'CentralAir', 'Functional', 'PavedDrive']\n",
    "\n",
    "to_remove = ['Id', 'MSSubClass', 'BsmtCond', 'YearBuilt',\n",
    "             'Alley', 'PoolQC', 'Fence', 'MiscFeature', '1stFlrSF', '2ndFlrSF', '3SsnPorch', \n",
    "             'Street', 'LandContour', 'Utilities', 'LotConfig', 'LandSlope', 'RoofStyle', 'RoofMatl', 'Heating', \n",
    "             'BsmtHalfBath', \n",
    "             'GarageQual', 'GarageCond', 'GarageCars', 'GarageFinish', 'GarageYrBlt', \n",
    "             'LotFrontage', 'LowQualFinSF',\n",
    "             'Condition1', 'Condition2', 'OpenPorchSF',\n",
    "             'BsmtExposure','BsmtFinSF1','BsmtFinSF2','BsmtFinType1','BsmtFinType2','BsmtFullBath','BsmtQual','BsmtUnfSF', \n",
    "             'Electrical', 'EnclosedPorch', \n",
    "             'ExterCond','ExterQual','Exterior1st','Exterior2nd', \n",
    "             'MSZoning', 'MasVnrArea','MasVnrType','MiscVal', 'PoolArea', \n",
    "             'SaleType', 'ScreenPorch','TotalBsmtSF','WoodDeckSF','YearRemodAdd','YrSold']\n",
    "\n",
    "target = ['SalePrice']"
   ]
  },
  {
   "cell_type": "code",
   "execution_count": 10,
   "metadata": {},
   "outputs": [
    {
     "data": {
      "text/plain": [
       "set()"
      ]
     },
     "execution_count": 10,
     "metadata": {},
     "output_type": "execute_result"
    }
   ],
   "source": [
    "set(train_data.columns) - set(con_vars) - set(cat_vars) - set(to_remove) - set(target)"
   ]
  },
  {
   "cell_type": "markdown",
   "metadata": {},
   "source": [
    "# Feature Engineering"
   ]
  },
  {
   "cell_type": "code",
   "execution_count": 11,
   "metadata": {},
   "outputs": [],
   "source": [
    "from sklearn.preprocessing import OneHotEncoder, StandardScaler\n",
    "from sklearn.compose import ColumnTransformer\n",
    "from sklearn.pipeline import Pipeline\n",
    "from sklearn.impute import SimpleImputer, KNNImputer, MissingIndicator\n",
    "from sklearn.utils import shuffle\n",
    "from sklearn.model_selection import train_test_split"
   ]
  },
  {
   "cell_type": "code",
   "execution_count": 12,
   "metadata": {},
   "outputs": [],
   "source": [
    "PCA_COMPONENTS = 0.9\n",
    "\n",
    "numeric_transformer = Pipeline(steps=[\n",
    "    ('imputer', SimpleImputer(strategy = 'constant', missing_values = np.nan, fill_value=-1)),\n",
    "    ('scaler', StandardScaler()),\n",
    "    # ('pca', PCA(n_components = PCA_COMPONENTS))\n",
    "])"
   ]
  },
  {
   "cell_type": "code",
   "execution_count": 13,
   "metadata": {},
   "outputs": [],
   "source": [
    "categorical_transformer = Pipeline(steps=[\n",
    "    ('imputer', SimpleImputer(strategy = 'most_frequent', missing_values = np.nan)),\n",
    "    ('onehot', OneHotEncoder(handle_unknown = 'error', drop = 'first'))\n",
    "])"
   ]
  },
  {
   "cell_type": "code",
   "execution_count": 14,
   "metadata": {},
   "outputs": [],
   "source": [
    "# Column transformer\n",
    "preprocessor = ColumnTransformer(\n",
    "    transformers = [\n",
    "        ('num', numeric_transformer, con_vars),\n",
    "        ('cat', categorical_transformer, cat_vars)\n",
    "    ]\n",
    ")"
   ]
  },
  {
   "cell_type": "code",
   "execution_count": 15,
   "metadata": {},
   "outputs": [],
   "source": [
    "train_data = train_data.drop(to_remove, axis = 1)\n",
    "test_data = test_data.drop(to_remove, axis = 1)"
   ]
  },
  {
   "cell_type": "code",
   "execution_count": 16,
   "metadata": {},
   "outputs": [],
   "source": [
    "# Finish FE\n",
    "\n",
    "# Shuffle train_data\n",
    "train_data = shuffle(train_data, random_state=SEED_SET)\n",
    "\n",
    "# Divide train_data into train_data and valid_data\n",
    "X_train, X_valid, y_train, y_valid = train_test_split(train_data[con_vars + cat_vars], train_data[target], \n",
    "                                                      test_size=0.25, random_state=SEED_SET)\n",
    "\n",
    "# Fit preprocessor\n",
    "selector = preprocessor.fit(X_train)\n",
    "\n",
    "# Transforming training and validation datasets\n",
    "X_train = selector.transform(X_train)\n",
    "X_valid = selector.transform(X_valid)\n",
    "\n",
    "# Preprocessing testing datasets\n",
    "X_test = test_data[con_vars + cat_vars]\n",
    "X_test = selector.transform(X_test)\n"
   ]
  },
  {
   "cell_type": "markdown",
   "metadata": {},
   "source": [
    "# Modelling"
   ]
  },
  {
   "cell_type": "code",
   "execution_count": 17,
   "metadata": {},
   "outputs": [],
   "source": [
    "import optuna\n",
    "from optuna.samplers import TPESampler\n",
    "from lightgbm import LGBMRegressor\n",
    "from sklearn.model_selection import RandomizedSearchCV\n",
    "from sklearn.metrics import mean_squared_error"
   ]
  },
  {
   "cell_type": "code",
   "execution_count": 18,
   "metadata": {},
   "outputs": [],
   "source": [
    "def create_model(trial):\n",
    "    \n",
    "    # HP_to_O\n",
    "    # parameter that shrinks the contribution of each tree by its value\n",
    "    learning_rate = trial.suggest_uniform('learning_rate', 0, 0.15)\n",
    "    # Maximum tree leaves for base learners\n",
    "    num_leaves = trial.suggest_int('num_leaves', 100, 300)\n",
    "    # Maximum number of levels in tree\n",
    "    max_depth = trial.suggest_int('max_depth', 3, 8)\n",
    "    # Number of trees in random forest\n",
    "    n_estimators = trial.suggest_int('n_estimators', 100, 300)\n",
    "    # the fraction of samples to be used for fitting the individual base learners\n",
    "    subsample = trial.suggest_uniform('subsample', 0.5, 0.9) \n",
    "    # Subsample ratio of columns when constructing each tree\n",
    "    colsample_bytree = trial.suggest_uniform('colsample_bytree', 0.5, 0.9)\n",
    "    # Regularization parameters\n",
    "    reg_lambda = trial.suggest_uniform('reg_lambda', 0, 0.9)\n",
    "    reg_alpha = trial.suggest_uniform('reg_alpha', 0, 20)\n",
    "    \n",
    "    # Define the model with:\n",
    "    reg_ = LGBMRegressor(boosting_type='gbdt', # Gradient Boosting Decision Tree\n",
    "                         random_state = SEED_SET, # seed \n",
    "                         silent = False, \n",
    "                         learning_rate = learning_rate, \n",
    "                         num_leaves=num_leaves,\n",
    "                         max_depth=max_depth,\n",
    "                         n_estimators=n_estimators,\n",
    "                         subsample=subsample,\n",
    "                         colsample_bytree=colsample_bytree,\n",
    "                         reg_lambda=reg_lambda,\n",
    "                         reg_alpha=reg_alpha\n",
    "                        )\n",
    "    \n",
    "    return reg_\n"
   ]
  },
  {
   "cell_type": "code",
   "execution_count": 27,
   "metadata": {},
   "outputs": [],
   "source": [
    "def objective(trial):\n",
    "    \n",
    "    model = create_model(trial)\n",
    "    model.fit(X_train, y_train)\n",
    "\n",
    "    y_pred = model.predict(X_valid)\n",
    "    valid_rmse = mean_squared_error(y_true = y_valid, y_pred = y_pred, squared = False)\n",
    "    \n",
    "    return valid_rmse"
   ]
  },
  {
   "cell_type": "code",
   "execution_count": 43,
   "metadata": {
    "collapsed": true,
    "jupyter": {
     "outputs_hidden": true
    }
   },
   "outputs": [
    {
     "name": "stderr",
     "output_type": "stream",
     "text": [
      "\u001b[32m[I 2020-10-31 14:21:42,044]\u001b[0m A new study created in memory with name: no-name-2f24d654-03df-4e14-b960-53b8bfcd8746\u001b[0m\n",
      "C:\\ProgramData\\Anaconda3\\lib\\site-packages\\sklearn\\utils\\validation.py:760: DataConversionWarning: A column-vector y was passed when a 1d array was expected. Please change the shape of y to (n_samples, ), for example using ravel().\n",
      "  y = column_or_1d(y, warn=True)\n",
      "\u001b[32m[I 2020-10-31 14:21:44,286]\u001b[0m Trial 0 finished with value: 29946.55347469908 and parameters: {'learning_rate': 0.10447037783967925, 'num_leaves': 226, 'max_depth': 5, 'n_estimators': 198, 'subsample': 0.7205259076331565, 'colsample_bytree': 0.7877875879142253, 'reg_lambda': 0.38079581411201485, 'reg_alpha': 19.61528396769231}. Best is trial 0 with value: 29946.55347469908.\u001b[0m\n",
      "C:\\ProgramData\\Anaconda3\\lib\\site-packages\\sklearn\\utils\\validation.py:760: DataConversionWarning: A column-vector y was passed when a 1d array was expected. Please change the shape of y to (n_samples, ), for example using ravel().\n",
      "  y = column_or_1d(y, warn=True)\n",
      "\u001b[32m[I 2020-10-31 14:21:45,674]\u001b[0m Trial 1 finished with value: 29850.366397899594 and parameters: {'learning_rate': 0.1027244607877295, 'num_leaves': 226, 'max_depth': 4, 'n_estimators': 132, 'subsample': 0.6372712064603477, 'colsample_bytree': 0.7916198829536167, 'reg_lambda': 0.394715020211662, 'reg_alpha': 1.193557932191367}. Best is trial 1 with value: 29850.366397899594.\u001b[0m\n",
      "C:\\ProgramData\\Anaconda3\\lib\\site-packages\\sklearn\\utils\\validation.py:760: DataConversionWarning: A column-vector y was passed when a 1d array was expected. Please change the shape of y to (n_samples, ), for example using ravel().\n",
      "  y = column_or_1d(y, warn=True)\n",
      "\u001b[32m[I 2020-10-31 14:21:47,310]\u001b[0m Trial 2 finished with value: 28127.669044046506 and parameters: {'learning_rate': 0.05970663829956471, 'num_leaves': 168, 'max_depth': 4, 'n_estimators': 155, 'subsample': 0.6761028712256305, 'colsample_bytree': 0.5334905938254337, 'reg_lambda': 0.6410971632498862, 'reg_alpha': 8.55726981675639}. Best is trial 2 with value: 28127.669044046506.\u001b[0m\n",
      "C:\\ProgramData\\Anaconda3\\lib\\site-packages\\sklearn\\utils\\validation.py:760: DataConversionWarning: A column-vector y was passed when a 1d array was expected. Please change the shape of y to (n_samples, ), for example using ravel().\n",
      "  y = column_or_1d(y, warn=True)\n",
      "\u001b[32m[I 2020-10-31 14:21:49,314]\u001b[0m Trial 3 finished with value: 28775.45014775947 and parameters: {'learning_rate': 0.04466707466106688, 'num_leaves': 235, 'max_depth': 4, 'n_estimators': 199, 'subsample': 0.7444094042710332, 'colsample_bytree': 0.7889773530280886, 'reg_lambda': 0.2906630224678604, 'reg_alpha': 7.235773112446282}. Best is trial 2 with value: 28127.669044046506.\u001b[0m\n",
      "C:\\ProgramData\\Anaconda3\\lib\\site-packages\\sklearn\\utils\\validation.py:760: DataConversionWarning: A column-vector y was passed when a 1d array was expected. Please change the shape of y to (n_samples, ), for example using ravel().\n",
      "  y = column_or_1d(y, warn=True)\n",
      "\u001b[32m[I 2020-10-31 14:21:50,824]\u001b[0m Trial 4 finished with value: 28284.680120803678 and parameters: {'learning_rate': 0.03423948463184334, 'num_leaves': 176, 'max_depth': 3, 'n_estimators': 231, 'subsample': 0.5368419759780301, 'colsample_bytree': 0.6734804690718112, 'reg_lambda': 0.38777648699667944, 'reg_alpha': 9.873701953006124}. Best is trial 2 with value: 28127.669044046506.\u001b[0m\n",
      "C:\\ProgramData\\Anaconda3\\lib\\site-packages\\sklearn\\utils\\validation.py:760: DataConversionWarning: A column-vector y was passed when a 1d array was expected. Please change the shape of y to (n_samples, ), for example using ravel().\n",
      "  y = column_or_1d(y, warn=True)\n",
      "\u001b[32m[I 2020-10-31 14:21:55,008]\u001b[0m Trial 5 finished with value: 28933.000339956834 and parameters: {'learning_rate': 0.06387454354437419, 'num_leaves': 115, 'max_depth': 6, 'n_estimators': 255, 'subsample': 0.8573556652468539, 'colsample_bytree': 0.8776640072815518, 'reg_lambda': 0.45165300829590294, 'reg_alpha': 12.479059035842223}. Best is trial 2 with value: 28127.669044046506.\u001b[0m\n",
      "C:\\ProgramData\\Anaconda3\\lib\\site-packages\\sklearn\\utils\\validation.py:760: DataConversionWarning: A column-vector y was passed when a 1d array was expected. Please change the shape of y to (n_samples, ), for example using ravel().\n",
      "  y = column_or_1d(y, warn=True)\n",
      "\u001b[32m[I 2020-10-31 14:21:58,630]\u001b[0m Trial 6 finished with value: 28823.070683637867 and parameters: {'learning_rate': 0.017342759261894356, 'num_leaves': 114, 'max_depth': 7, 'n_estimators': 203, 'subsample': 0.8465236631533464, 'colsample_bytree': 0.6001821461586027, 'reg_lambda': 0.4347308378364339, 'reg_alpha': 19.7111957122141}. Best is trial 2 with value: 28127.669044046506.\u001b[0m\n",
      "C:\\ProgramData\\Anaconda3\\lib\\site-packages\\sklearn\\utils\\validation.py:760: DataConversionWarning: A column-vector y was passed when a 1d array was expected. Please change the shape of y to (n_samples, ), for example using ravel().\n",
      "  y = column_or_1d(y, warn=True)\n",
      "\u001b[32m[I 2020-10-31 14:21:59,781]\u001b[0m Trial 7 finished with value: 29627.497656143194 and parameters: {'learning_rate': 0.0779227678889714, 'num_leaves': 156, 'max_depth': 4, 'n_estimators': 112, 'subsample': 0.8305363202027334, 'colsample_bytree': 0.741224051364371, 'reg_lambda': 0.49056120581981844, 'reg_alpha': 6.855276675486168}. Best is trial 2 with value: 28127.669044046506.\u001b[0m\n",
      "C:\\ProgramData\\Anaconda3\\lib\\site-packages\\sklearn\\utils\\validation.py:760: DataConversionWarning: A column-vector y was passed when a 1d array was expected. Please change the shape of y to (n_samples, ), for example using ravel().\n",
      "  y = column_or_1d(y, warn=True)\n",
      "\u001b[32m[I 2020-10-31 14:22:02,313]\u001b[0m Trial 8 finished with value: 28547.6518243103 and parameters: {'learning_rate': 0.045618118354077614, 'num_leaves': 277, 'max_depth': 6, 'n_estimators': 167, 'subsample': 0.85018273671807, 'colsample_bytree': 0.7041689349912045, 'reg_lambda': 0.6023824046660451, 'reg_alpha': 11.718731051244259}. Best is trial 2 with value: 28127.669044046506.\u001b[0m\n",
      "C:\\ProgramData\\Anaconda3\\lib\\site-packages\\sklearn\\utils\\validation.py:760: DataConversionWarning: A column-vector y was passed when a 1d array was expected. Please change the shape of y to (n_samples, ), for example using ravel().\n",
      "  y = column_or_1d(y, warn=True)\n",
      "\u001b[32m[I 2020-10-31 14:22:03,981]\u001b[0m Trial 9 finished with value: 29941.766517625838 and parameters: {'learning_rate': 0.09373552531433997, 'num_leaves': 106, 'max_depth': 4, 'n_estimators': 187, 'subsample': 0.6259865783562745, 'colsample_bytree': 0.8564436383356642, 'reg_lambda': 0.16230265479386347, 'reg_alpha': 9.886324043938064}. Best is trial 2 with value: 28127.669044046506.\u001b[0m\n",
      "C:\\ProgramData\\Anaconda3\\lib\\site-packages\\sklearn\\utils\\validation.py:760: DataConversionWarning: A column-vector y was passed when a 1d array was expected. Please change the shape of y to (n_samples, ), for example using ravel().\n",
      "  y = column_or_1d(y, warn=True)\n",
      "\u001b[32m[I 2020-10-31 14:22:05,651]\u001b[0m Trial 10 finished with value: 29296.130472811532 and parameters: {'learning_rate': 0.14307564243982795, 'num_leaves': 152, 'max_depth': 8, 'n_estimators': 143, 'subsample': 0.5262115342618353, 'colsample_bytree': 0.5014309711458738, 'reg_lambda': 0.8500190446809444, 'reg_alpha': 15.436911899283288}. Best is trial 2 with value: 28127.669044046506.\u001b[0m\n",
      "C:\\ProgramData\\Anaconda3\\lib\\site-packages\\sklearn\\utils\\validation.py:760: DataConversionWarning: A column-vector y was passed when a 1d array was expected. Please change the shape of y to (n_samples, ), for example using ravel().\n",
      "  y = column_or_1d(y, warn=True)\n",
      "\u001b[32m[I 2020-10-31 14:22:06,225]\u001b[0m Trial 11 finished with value: 53271.757131842016 and parameters: {'learning_rate': 0.002335331047694948, 'num_leaves': 175, 'max_depth': 3, 'n_estimators': 260, 'subsample': 0.5065066998822672, 'colsample_bytree': 0.6058182256118239, 'reg_lambda': 0.7179650961531152, 'reg_alpha': 3.8337334244581536}. Best is trial 2 with value: 28127.669044046506.\u001b[0m\n",
      "C:\\ProgramData\\Anaconda3\\lib\\site-packages\\sklearn\\utils\\validation.py:760: DataConversionWarning: A column-vector y was passed when a 1d array was expected. Please change the shape of y to (n_samples, ), for example using ravel().\n",
      "  y = column_or_1d(y, warn=True)\n",
      "\u001b[32m[I 2020-10-31 14:22:07,984]\u001b[0m Trial 12 finished with value: 28130.37132900412 and parameters: {'learning_rate': 0.029269726293298062, 'num_leaves': 189, 'max_depth': 3, 'n_estimators': 298, 'subsample': 0.5815877080844207, 'colsample_bytree': 0.5023822427587857, 'reg_lambda': 0.6606552129187325, 'reg_alpha': 8.003812060776365}. Best is trial 2 with value: 28127.669044046506.\u001b[0m\n",
      "C:\\ProgramData\\Anaconda3\\lib\\site-packages\\sklearn\\utils\\validation.py:760: DataConversionWarning: A column-vector y was passed when a 1d array was expected. Please change the shape of y to (n_samples, ), for example using ravel().\n",
      "  y = column_or_1d(y, warn=True)\n",
      "\u001b[32m[I 2020-10-31 14:22:08,696]\u001b[0m Trial 13 finished with value: 66604.9776202861 and parameters: {'learning_rate': 0.0007469131788250608, 'num_leaves': 186, 'max_depth': 3, 'n_estimators': 297, 'subsample': 0.6103105163188297, 'colsample_bytree': 0.5058871644410267, 'reg_lambda': 0.8510947970108977, 'reg_alpha': 5.774779896264359}. Best is trial 2 with value: 28127.669044046506.\u001b[0m\n",
      "C:\\ProgramData\\Anaconda3\\lib\\site-packages\\sklearn\\utils\\validation.py:760: DataConversionWarning: A column-vector y was passed when a 1d array was expected. Please change the shape of y to (n_samples, ), for example using ravel().\n",
      "  y = column_or_1d(y, warn=True)\n",
      "\u001b[32m[I 2020-10-31 14:22:12,399]\u001b[0m Trial 14 finished with value: 28082.002829505418 and parameters: {'learning_rate': 0.026465144865226872, 'num_leaves': 144, 'max_depth': 5, 'n_estimators': 297, 'subsample': 0.6724944222484729, 'colsample_bytree': 0.5627392118183163, 'reg_lambda': 0.668610388286768, 'reg_alpha': 2.1820826243510023}. Best is trial 14 with value: 28082.002829505418.\u001b[0m\n",
      "C:\\ProgramData\\Anaconda3\\lib\\site-packages\\sklearn\\utils\\validation.py:760: DataConversionWarning: A column-vector y was passed when a 1d array was expected. Please change the shape of y to (n_samples, ), for example using ravel().\n",
      "  y = column_or_1d(y, warn=True)\n",
      "\u001b[32m[I 2020-10-31 14:22:15,838]\u001b[0m Trial 15 finished with value: 28037.562894134877 and parameters: {'learning_rate': 0.05752225847768692, 'num_leaves': 140, 'max_depth': 5, 'n_estimators': 158, 'subsample': 0.6818923811147592, 'colsample_bytree': 0.5713785512567051, 'reg_lambda': 0.7498665091898973, 'reg_alpha': 0.4252694123713088}. Best is trial 15 with value: 28037.562894134877.\u001b[0m\n",
      "C:\\ProgramData\\Anaconda3\\lib\\site-packages\\sklearn\\utils\\validation.py:760: DataConversionWarning: A column-vector y was passed when a 1d array was expected. Please change the shape of y to (n_samples, ), for example using ravel().\n",
      "  y = column_or_1d(y, warn=True)\n",
      "\u001b[32m[I 2020-10-31 14:22:17,158]\u001b[0m Trial 16 finished with value: 35000.854623016225 and parameters: {'learning_rate': 0.01504806068834886, 'num_leaves': 138, 'max_depth': 5, 'n_estimators': 102, 'subsample': 0.7871675578215526, 'colsample_bytree': 0.5915927905493643, 'reg_lambda': 0.7907944124111935, 'reg_alpha': 0.527181252243416}. Best is trial 15 with value: 28037.562894134877.\u001b[0m\n",
      "C:\\ProgramData\\Anaconda3\\lib\\site-packages\\sklearn\\utils\\validation.py:760: DataConversionWarning: A column-vector y was passed when a 1d array was expected. Please change the shape of y to (n_samples, ), for example using ravel().\n",
      "  y = column_or_1d(y, warn=True)\n",
      "\u001b[32m[I 2020-10-31 14:22:20,332]\u001b[0m Trial 17 finished with value: 28652.924012257317 and parameters: {'learning_rate': 0.07798375865448845, 'num_leaves': 122, 'max_depth': 6, 'n_estimators': 230, 'subsample': 0.6824920486754823, 'colsample_bytree': 0.5487199520176478, 'reg_lambda': 0.5614253738739001, 'reg_alpha': 2.65023442888593}. Best is trial 15 with value: 28037.562894134877.\u001b[0m\n",
      "C:\\ProgramData\\Anaconda3\\lib\\site-packages\\sklearn\\utils\\validation.py:760: DataConversionWarning: A column-vector y was passed when a 1d array was expected. Please change the shape of y to (n_samples, ), for example using ravel().\n",
      "  y = column_or_1d(y, warn=True)\n",
      "\u001b[32m[I 2020-10-31 14:22:22,180]\u001b[0m Trial 18 finished with value: 29684.329633696492 and parameters: {'learning_rate': 0.12745441878466002, 'num_leaves': 130, 'max_depth': 5, 'n_estimators': 174, 'subsample': 0.7649818591069002, 'colsample_bytree': 0.6358335830795893, 'reg_lambda': 0.7701697036664474, 'reg_alpha': 0.021708873662520833}. Best is trial 15 with value: 28037.562894134877.\u001b[0m\n",
      "C:\\ProgramData\\Anaconda3\\lib\\site-packages\\sklearn\\utils\\validation.py:760: DataConversionWarning: A column-vector y was passed when a 1d array was expected. Please change the shape of y to (n_samples, ), for example using ravel().\n",
      "  y = column_or_1d(y, warn=True)\n",
      "\u001b[32m[I 2020-10-31 14:22:23,792]\u001b[0m Trial 19 finished with value: 27990.293104964872 and parameters: {'learning_rate': 0.05968714670253311, 'num_leaves': 207, 'max_depth': 7, 'n_estimators': 126, 'subsample': 0.660150764556716, 'colsample_bytree': 0.557133770917331, 'reg_lambda': 0.7178852673023752, 'reg_alpha': 4.3068527344599605}. Best is trial 19 with value: 27990.293104964872.\u001b[0m\n",
      "C:\\ProgramData\\Anaconda3\\lib\\site-packages\\sklearn\\utils\\validation.py:760: DataConversionWarning: A column-vector y was passed when a 1d array was expected. Please change the shape of y to (n_samples, ), for example using ravel().\n",
      "  y = column_or_1d(y, warn=True)\n",
      "\u001b[32m[I 2020-10-31 14:22:25,575]\u001b[0m Trial 20 finished with value: 28569.354566451733 and parameters: {'learning_rate': 0.05991515138738225, 'num_leaves': 259, 'max_depth': 8, 'n_estimators': 123, 'subsample': 0.5642690453075914, 'colsample_bytree': 0.6635657504633288, 'reg_lambda': 0.8722730414010085, 'reg_alpha': 4.879775434183788}. Best is trial 19 with value: 27990.293104964872.\u001b[0m\n",
      "C:\\ProgramData\\Anaconda3\\lib\\site-packages\\sklearn\\utils\\validation.py:760: DataConversionWarning: A column-vector y was passed when a 1d array was expected. Please change the shape of y to (n_samples, ), for example using ravel().\n",
      "  y = column_or_1d(y, warn=True)\n",
      "\u001b[32m[I 2020-10-31 14:22:27,445]\u001b[0m Trial 21 finished with value: 28069.09008458701 and parameters: {'learning_rate': 0.04494526286738511, 'num_leaves': 203, 'max_depth': 7, 'n_estimators': 148, 'subsample': 0.6591170625935148, 'colsample_bytree': 0.5629527208311007, 'reg_lambda': 0.7069448717476156, 'reg_alpha': 2.337990762234234}. Best is trial 19 with value: 27990.293104964872.\u001b[0m\n",
      "C:\\ProgramData\\Anaconda3\\lib\\site-packages\\sklearn\\utils\\validation.py:760: DataConversionWarning: A column-vector y was passed when a 1d array was expected. Please change the shape of y to (n_samples, ), for example using ravel().\n",
      "  y = column_or_1d(y, warn=True)\n",
      "\u001b[32m[I 2020-10-31 14:22:29,354]\u001b[0m Trial 22 finished with value: 28185.944227388547 and parameters: {'learning_rate': 0.04682876458605847, 'num_leaves': 210, 'max_depth': 7, 'n_estimators': 146, 'subsample': 0.7118040605404962, 'colsample_bytree': 0.5631409232941781, 'reg_lambda': 0.7566103213611429, 'reg_alpha': 3.6416296933404975}. Best is trial 19 with value: 27990.293104964872.\u001b[0m\n",
      "C:\\ProgramData\\Anaconda3\\lib\\site-packages\\sklearn\\utils\\validation.py:760: DataConversionWarning: A column-vector y was passed when a 1d array was expected. Please change the shape of y to (n_samples, ), for example using ravel().\n",
      "  y = column_or_1d(y, warn=True)\n",
      "\u001b[32m[I 2020-10-31 14:22:30,874]\u001b[0m Trial 23 finished with value: 28653.180104662108 and parameters: {'learning_rate': 0.0690330547493003, 'num_leaves': 200, 'max_depth': 7, 'n_estimators': 101, 'subsample': 0.655326678838178, 'colsample_bytree': 0.6361369146117402, 'reg_lambda': 0.5377979765458043, 'reg_alpha': 0.14673674794553332}. Best is trial 19 with value: 27990.293104964872.\u001b[0m\n",
      "C:\\ProgramData\\Anaconda3\\lib\\site-packages\\sklearn\\utils\\validation.py:760: DataConversionWarning: A column-vector y was passed when a 1d array was expected. Please change the shape of y to (n_samples, ), for example using ravel().\n",
      "  y = column_or_1d(y, warn=True)\n",
      "\u001b[32m[I 2020-10-31 14:22:32,448]\u001b[0m Trial 24 finished with value: 28600.2627788454 and parameters: {'learning_rate': 0.09046423805973602, 'num_leaves': 246, 'max_depth': 7, 'n_estimators': 122, 'subsample': 0.6024339091214438, 'colsample_bytree': 0.5309713868167691, 'reg_lambda': 0.7253867390563163, 'reg_alpha': 1.9884019210299542}. Best is trial 19 with value: 27990.293104964872.\u001b[0m\n",
      "C:\\ProgramData\\Anaconda3\\lib\\site-packages\\sklearn\\utils\\validation.py:760: DataConversionWarning: A column-vector y was passed when a 1d array was expected. Please change the shape of y to (n_samples, ), for example using ravel().\n",
      "  y = column_or_1d(y, warn=True)\n",
      "\u001b[32m[I 2020-10-31 14:22:34,589]\u001b[0m Trial 25 finished with value: 28225.312687891554 and parameters: {'learning_rate': 0.05034039839923148, 'num_leaves': 209, 'max_depth': 8, 'n_estimators': 163, 'subsample': 0.7080086523680986, 'colsample_bytree': 0.5863025059890252, 'reg_lambda': 0.8098482872489724, 'reg_alpha': 4.846436430170298}. Best is trial 19 with value: 27990.293104964872.\u001b[0m\n",
      "C:\\ProgramData\\Anaconda3\\lib\\site-packages\\sklearn\\utils\\validation.py:760: DataConversionWarning: A column-vector y was passed when a 1d array was expected. Please change the shape of y to (n_samples, ), for example using ravel().\n",
      "  y = column_or_1d(y, warn=True)\n",
      "\u001b[32m[I 2020-10-31 14:22:36,310]\u001b[0m Trial 26 finished with value: 28305.89521346086 and parameters: {'learning_rate': 0.03530207184688733, 'num_leaves': 213, 'max_depth': 6, 'n_estimators': 136, 'subsample': 0.6438969230044607, 'colsample_bytree': 0.6268993730056781, 'reg_lambda': 0.8930781077068755, 'reg_alpha': 2.949596224583053}. Best is trial 19 with value: 27990.293104964872.\u001b[0m\n",
      "C:\\ProgramData\\Anaconda3\\lib\\site-packages\\sklearn\\utils\\validation.py:760: DataConversionWarning: A column-vector y was passed when a 1d array was expected. Please change the shape of y to (n_samples, ), for example using ravel().\n",
      "  y = column_or_1d(y, warn=True)\n",
      "\u001b[32m[I 2020-10-31 14:22:38,388]\u001b[0m Trial 27 finished with value: 28984.14354871495 and parameters: {'learning_rate': 0.08375466202261414, 'num_leaves': 293, 'max_depth': 7, 'n_estimators': 181, 'subsample': 0.7408404480873766, 'colsample_bytree': 0.5257780131598571, 'reg_lambda': 0.03944503195032378, 'reg_alpha': 0.14469013039275813}. Best is trial 19 with value: 27990.293104964872.\u001b[0m\n",
      "C:\\ProgramData\\Anaconda3\\lib\\site-packages\\sklearn\\utils\\validation.py:760: DataConversionWarning: A column-vector y was passed when a 1d array was expected. Please change the shape of y to (n_samples, ), for example using ravel().\n",
      "  y = column_or_1d(y, warn=True)\n",
      "\u001b[32m[I 2020-10-31 14:22:40,258]\u001b[0m Trial 28 finished with value: 27907.489784711146 and parameters: {'learning_rate': 0.053539620452168056, 'num_leaves': 194, 'max_depth': 6, 'n_estimators': 156, 'subsample': 0.7965912381040505, 'colsample_bytree': 0.5696441624644419, 'reg_lambda': 0.6888825984159586, 'reg_alpha': 5.802499862796052}. Best is trial 28 with value: 27907.489784711146.\u001b[0m\n",
      "C:\\ProgramData\\Anaconda3\\lib\\site-packages\\sklearn\\utils\\validation.py:760: DataConversionWarning: A column-vector y was passed when a 1d array was expected. Please change the shape of y to (n_samples, ), for example using ravel().\n",
      "  y = column_or_1d(y, warn=True)\n",
      "\u001b[32m[I 2020-10-31 14:22:42,812]\u001b[0m Trial 29 finished with value: 28187.85892674139 and parameters: {'learning_rate': 0.05704198216270914, 'num_leaves': 252, 'max_depth': 6, 'n_estimators': 215, 'subsample': 0.8922695822303278, 'colsample_bytree': 0.716388346272114, 'reg_lambda': 0.5818764487865492, 'reg_alpha': 6.097749083668236}. Best is trial 28 with value: 27907.489784711146.\u001b[0m\n"
     ]
    }
   ],
   "source": [
    "sampler = TPESampler(seed=SEED_SET)\n",
    "study = optuna.create_study(direction=\"minimize\", sampler=sampler)\n",
    "study.optimize(objective, n_trials=30)"
   ]
  },
  {
   "cell_type": "code",
   "execution_count": 44,
   "metadata": {},
   "outputs": [],
   "source": [
    "# Final parameters\n",
    "params = study.best_params"
   ]
  },
  {
   "cell_type": "code",
   "execution_count": 45,
   "metadata": {},
   "outputs": [
    {
     "data": {
      "text/plain": [
       "{'learning_rate': 0.053539620452168056,\n",
       " 'num_leaves': 194,\n",
       " 'max_depth': 6,\n",
       " 'n_estimators': 156,\n",
       " 'subsample': 0.7965912381040505,\n",
       " 'colsample_bytree': 0.5696441624644419,\n",
       " 'reg_lambda': 0.6888825984159586,\n",
       " 'reg_alpha': 5.802499862796052}"
      ]
     },
     "execution_count": 45,
     "metadata": {},
     "output_type": "execute_result"
    }
   ],
   "source": [
    "params"
   ]
  },
  {
   "cell_type": "code",
   "execution_count": 46,
   "metadata": {},
   "outputs": [
    {
     "name": "stderr",
     "output_type": "stream",
     "text": [
      "C:\\ProgramData\\Anaconda3\\lib\\site-packages\\sklearn\\utils\\validation.py:760: DataConversionWarning: A column-vector y was passed when a 1d array was expected. Please change the shape of y to (n_samples, ), for example using ravel().\n",
      "  y = column_or_1d(y, warn=True)\n"
     ]
    },
    {
     "data": {
      "text/plain": [
       "LGBMRegressor(boosting_type='gbdt', class_weight=None,\n",
       "              colsample_bytree=0.5696441624644419, importance_type='split',\n",
       "              learning_rate=0.053539620452168056, max_depth=6,\n",
       "              min_child_samples=20, min_child_weight=0.001, min_split_gain=0.0,\n",
       "              n_estimators=156, n_jobs=-1, num_leaves=194, objective=None,\n",
       "              random_state=None, reg_alpha=5.802499862796052,\n",
       "              reg_lambda=0.6888825984159586, silent=True,\n",
       "              subsample=0.7965912381040505, subsample_for_bin=200000,\n",
       "              subsample_freq=0)"
      ]
     },
     "execution_count": 46,
     "metadata": {},
     "output_type": "execute_result"
    }
   ],
   "source": [
    "model = LGBMRegressor(**params)\n",
    "model.fit(X_train, y_train)"
   ]
  },
  {
   "cell_type": "code",
   "execution_count": 47,
   "metadata": {},
   "outputs": [],
   "source": [
    "y_pred = model.predict(X_valid)"
   ]
  },
  {
   "cell_type": "markdown",
   "metadata": {},
   "source": [
    "# Validation of models"
   ]
  },
  {
   "cell_type": "code",
   "execution_count": 48,
   "metadata": {},
   "outputs": [],
   "source": [
    "from sklearn.metrics import mean_absolute_error, mean_squared_error"
   ]
  },
  {
   "cell_type": "code",
   "execution_count": 49,
   "metadata": {},
   "outputs": [
    {
     "data": {
      "text/plain": [
       "27896.039072841388"
      ]
     },
     "execution_count": 49,
     "metadata": {},
     "output_type": "execute_result"
    }
   ],
   "source": [
    "mean_squared_error(y_true = y_valid, y_pred = y_pred, squared = False)"
   ]
  },
  {
   "cell_type": "markdown",
   "metadata": {},
   "source": [
    "# Finished Model"
   ]
  },
  {
   "cell_type": "code",
   "execution_count": 51,
   "metadata": {},
   "outputs": [],
   "source": [
    "test_pred = model.predict(X_test)"
   ]
  },
  {
   "cell_type": "code",
   "execution_count": 52,
   "metadata": {},
   "outputs": [
    {
     "data": {
      "text/plain": [
       "array([135360.76496107, 159983.62069084, 180040.0621394 , ...,\n",
       "       151490.21554895, 127927.56244332, 213674.60570128])"
      ]
     },
     "execution_count": 52,
     "metadata": {},
     "output_type": "execute_result"
    }
   ],
   "source": [
    "test_pred"
   ]
  },
  {
   "cell_type": "code",
   "execution_count": 53,
   "metadata": {},
   "outputs": [],
   "source": [
    "submission = pd.read_csv('sample_submission.csv')"
   ]
  },
  {
   "cell_type": "code",
   "execution_count": 54,
   "metadata": {},
   "outputs": [],
   "source": [
    "submission.SalePrice = test_pred"
   ]
  },
  {
   "cell_type": "code",
   "execution_count": 55,
   "metadata": {},
   "outputs": [],
   "source": [
    "submission[['Id', 'SalePrice']].to_csv('submission.csv', index = False)"
   ]
  },
  {
   "cell_type": "code",
   "execution_count": null,
   "metadata": {},
   "outputs": [],
   "source": []
  }
 ],
 "metadata": {
  "kernelspec": {
   "display_name": "Python 3",
   "language": "python",
   "name": "python3"
  },
  "language_info": {
   "codemirror_mode": {
    "name": "ipython",
    "version": 3
   },
   "file_extension": ".py",
   "mimetype": "text/x-python",
   "name": "python",
   "nbconvert_exporter": "python",
   "pygments_lexer": "ipython3",
   "version": "3.7.6"
  }
 },
 "nbformat": 4,
 "nbformat_minor": 4
}
